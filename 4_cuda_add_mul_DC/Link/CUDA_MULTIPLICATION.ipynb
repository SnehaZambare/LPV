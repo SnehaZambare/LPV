{
 "cells": [
  {
   "cell_type": "code",
   "execution_count": 1,
   "metadata": {
    "colab": {
     "base_uri": "https://localhost:8080/"
    },
    "id": "aLFu5rnAwtZN",
    "outputId": "d9971e31-4280-43de-c855-f7dca2455a33"
   },
   "outputs": [
    {
     "name": "stderr",
     "output_type": "stream",
     "text": [
      "The system cannot find the path specified.\n"
     ]
    }
   ],
   "source": [
    "!/usr/local/cuda/bin/nvcc --version"
   ]
  },
  {
   "cell_type": "code",
   "execution_count": 2,
   "metadata": {
    "colab": {
     "base_uri": "https://localhost:8080/"
    },
    "id": "srLvDRwHxIKw",
    "outputId": "50cb4b75-2f3e-48c4-dc00-2e73aab81c7a"
   },
   "outputs": [
    {
     "name": "stdout",
     "output_type": "stream",
     "text": [
      "Collecting git+https://github.com/andreinechaev/nvcc4jupyter.git\n",
      "  Cloning https://github.com/andreinechaev/nvcc4jupyter.git to c:\\users\\hp\\appdata\\local\\temp\\pip-req-build-8kn99q53\n",
      "Building wheels for collected packages: NVCCPlugin\n",
      "  Building wheel for NVCCPlugin (setup.py): started\n",
      "  Building wheel for NVCCPlugin (setup.py): finished with status 'done'\n",
      "  Created wheel for NVCCPlugin: filename=NVCCPlugin-0.0.2-py3-none-any.whl size=4340 sha256=2d8c75d1aaeb1da37bcf234ab8430ed10b0869f0922c70cee434efc93cced06a\n",
      "  Stored in directory: C:\\Users\\HP\\AppData\\Local\\Temp\\pip-ephem-wheel-cache-p_6qanqy\\wheels\\f3\\08\\cc\\e2b5b0e1c92df07dbb50a6f024a68ce090f5e7b2316b41756d\n",
      "Successfully built NVCCPlugin\n",
      "Installing collected packages: NVCCPlugin\n",
      "Successfully installed NVCCPlugin-0.0.2\n"
     ]
    },
    {
     "name": "stderr",
     "output_type": "stream",
     "text": [
      "  Running command git clone -q https://github.com/andreinechaev/nvcc4jupyter.git 'C:\\Users\\HP\\AppData\\Local\\Temp\\pip-req-build-8kn99q53'\n"
     ]
    }
   ],
   "source": [
    "!pip install git+https://github.com/andreinechaev/nvcc4jupyter.git"
   ]
  },
  {
   "cell_type": "code",
   "execution_count": 4,
   "metadata": {
    "colab": {
     "base_uri": "https://localhost:8080/"
    },
    "id": "d2Ua2hrfw4PH",
    "outputId": "78d5ef99-8462-4108-f22e-2846d04c45a9"
   },
   "outputs": [
    {
     "name": "stdout",
     "output_type": "stream",
     "text": [
      "created output directory at C:\\Users\\HP\\OneDrive\\Desktop\\LPV\\LPV\\4_cuda_add_mul_DC\\Link\\src\n",
      "Out bin C:\\Users\\HP\\OneDrive\\Desktop\\LPV\\LPV\\4_cuda_add_mul_DC\\Link\\result.out\n"
     ]
    }
   ],
   "source": [
    "%load_ext nvcc_plugin"
   ]
  },
  {
   "cell_type": "code",
   "execution_count": 5,
   "metadata": {
    "colab": {
     "base_uri": "https://localhost:8080/"
    },
    "id": "iCRweYNlwKPE",
    "outputId": "9ecf254e-9d72-4589-a135-85a806314851"
   },
   "outputs": [
    {
     "ename": "FileNotFoundError",
     "evalue": "[WinError 2] The system cannot find the file specified",
     "output_type": "error",
     "traceback": [
      "\u001b[1;31m---------------------------------------------------------------------------\u001b[0m",
      "\u001b[1;31mFileNotFoundError\u001b[0m                         Traceback (most recent call last)",
      "\u001b[1;32m<ipython-input-5-c1802156ed96>\u001b[0m in \u001b[0;36m<module>\u001b[1;34m\u001b[0m\n\u001b[1;32m----> 1\u001b[1;33m \u001b[0mget_ipython\u001b[0m\u001b[1;33m(\u001b[0m\u001b[1;33m)\u001b[0m\u001b[1;33m.\u001b[0m\u001b[0mrun_cell_magic\u001b[0m\u001b[1;33m(\u001b[0m\u001b[1;34m'cu'\u001b[0m\u001b[1;33m,\u001b[0m \u001b[1;34m''\u001b[0m\u001b[1;33m,\u001b[0m \u001b[1;34m'#include <cmath>\\n#include <cstdlib>\\n#include <iostream>\\n\\n#define checkCudaErrors(call)                                                                 \\\\\\n    do {                                                                                      \\\\\\n        cudaError_t err = call;                                                               \\\\\\n        if (err != cudaSuccess) {                                                             \\\\\\n            printf(\"CUDA error at %s %d: %s\\\\n\", __FILE__, __LINE__, cudaGetErrorString(err)); \\\\\\n            exit(EXIT_FAILURE);                                                               \\\\\\n        }                                                                                     \\\\\\n    } while (0)\\n\\nusing namespace std;\\n\\n// Matrix multiplication Cuda\\n__global__ void matrixMultiplication(int *a, int *b, int *c, int n) {\\n    int row = threadIdx.y + blockDim.y * blockIdx.y;\\n    int col = threadIdx.x + blockDim.x * blockIdx.x;\\n    int sum = 0;\\n\\n    if (row < n && col < n)\\n        for (int j = 0; j < n; j++) {\\n            sum = sum + a[row * n + j] * b[j * n + col];\\n        }\\n\\n    c[n * row + col] = sum;\\n}\\n\\nint main() {\\n    int *a, *b, *c;\\n    int *a_dev, *b_dev, *c_dev;\\n    int n = 10;\\n\\n    a = new int[n * n];\\n    b = new int[n * n];\\n    c = new int[n * n];\\n    int *d = new int[n * n];\\n    int size = n * n * sizeof(int);\\n    checkCudaErrors(cudaMalloc(&a_dev, size));\\n    checkCudaErrors(cudaMalloc(&b_dev, size));\\n    checkCudaErrors(cudaMalloc(&c_dev, size));\\n\\n    // Array initialization\\n    for (int i = 0; i < n * n; i++) {\\n        a[i] = rand() % 10;\\n        b[i] = rand() % 10;\\n    }\\n\\n    cout << \"Given matrix A is =>\\\\n\";\\n    for (int row = 0; row < n; row++) {\\n        for (int col = 0; col < n; col++) {\\n            cout << a[row * n + col] << \" \";\\n        }\\n        cout << \"\\\\n\";\\n    }\\n    cout << \"\\\\n\";\\n\\n    cout << \"Given matrix B is =>\\\\n\";\\n    for (int row = 0; row < n; row++) {\\n        for (int col = 0; col < n; col++) {\\n            cout << b[row * n + col] << \" \";\\n        }\\n        cout << \"\\\\n\";\\n    }\\n    cout << \"\\\\n\";\\n\\n    cudaEvent_t start, end;\\n\\n    checkCudaErrors(cudaEventCreate(&start));\\n    checkCudaErrors(cudaEventCreate(&end));\\n\\n    checkCudaErrors(cudaMemcpy(a_dev, a, size, cudaMemcpyHostToDevice));\\n    checkCudaErrors(cudaMemcpy(b_dev, b, size, cudaMemcpyHostToDevice));\\n\\n    dim3 threadsPerBlock(n, n);\\n    dim3 blocksPerGrid(1, 1);\\n\\n    // GPU Multiplication\\n    checkCudaErrors(cudaEventRecord(start));\\n    matrixMultiplication<<<blocksPerGrid, threadsPerBlock>>>(a_dev, b_dev, c_dev, n);\\n\\n    checkCudaErrors(cudaEventRecord(end));\\n    checkCudaErrors(cudaEventSynchronize(end));\\n\\n    float time = 0.0;\\n    checkCudaErrors(cudaEventElapsedTime(&time, start, end));\\n\\n    checkCudaErrors(cudaMemcpy(c, c_dev, size, cudaMemcpyDeviceToHost));\\n\\n    // CPU matrix multiplication\\n    int sum = 0;\\n    for (int row = 0; row < n; row++) {\\n        for (int col = 0; col < n; col++) {\\n            sum = 0;\\n            for (int k = 0; k < n; k++) sum = sum + a[row * n + k] * b[k * n + col];\\n            d[row * n + col] = sum;\\n        }\\n    }\\n\\n    cout << \"CPU product is =>\\\\n\";\\n    for (int row = 0; row < n; row++) {\\n        for (int col = 0; col < n; col++) {\\n            cout << d[row * n + col] << \" \";\\n        }\\n        cout << \"\\\\n\";\\n    }\\n    cout << \"\\\\n\";\\n\\n    cout << \"GPU product is =>\\\\n\";\\n    for (int row = 0; row < n; row++) {\\n        for (int col = 0; col < n; col++) {\\n            cout << c[row * n + col] << \" \";\\n        }\\n        cout << \"\\\\n\";\\n    }\\n    cout << \"\\\\n\";\\n\\n    int error = 0;\\n    int _c, _d;\\n    for (int row = 0; row < n; row++) {\\n        for (int col = 0; col < n; col++) {\\n            _c = c[row * n + col];\\n            _d = d[row * n + col];\\n            error += _c - _d;\\n            if (0 != (_c - _d)) {\\n                cout << \"Error at (\" << row << \", \" << col << \") => GPU: \" << _c << \", CPU: \" << _d\\n                     << \"\\\\n\";\\n            }\\n        }\\n    }\\n    cout << \"\\\\n\";\\n\\n    cout << \"Error : \" << error;\\n    cout << \"\\\\nTime Elapsed: \" << time;\\n\\n    return 0;\\n}\\n'\u001b[0m\u001b[1;33m)\u001b[0m\u001b[1;33m\u001b[0m\u001b[1;33m\u001b[0m\u001b[0m\n\u001b[0m",
      "\u001b[1;32m~\\anaconda3\\lib\\site-packages\\IPython\\core\\interactiveshell.py\u001b[0m in \u001b[0;36mrun_cell_magic\u001b[1;34m(self, magic_name, line, cell)\u001b[0m\n\u001b[0;32m   2397\u001b[0m             \u001b[1;32mwith\u001b[0m \u001b[0mself\u001b[0m\u001b[1;33m.\u001b[0m\u001b[0mbuiltin_trap\u001b[0m\u001b[1;33m:\u001b[0m\u001b[1;33m\u001b[0m\u001b[1;33m\u001b[0m\u001b[0m\n\u001b[0;32m   2398\u001b[0m                 \u001b[0margs\u001b[0m \u001b[1;33m=\u001b[0m \u001b[1;33m(\u001b[0m\u001b[0mmagic_arg_s\u001b[0m\u001b[1;33m,\u001b[0m \u001b[0mcell\u001b[0m\u001b[1;33m)\u001b[0m\u001b[1;33m\u001b[0m\u001b[1;33m\u001b[0m\u001b[0m\n\u001b[1;32m-> 2399\u001b[1;33m                 \u001b[0mresult\u001b[0m \u001b[1;33m=\u001b[0m \u001b[0mfn\u001b[0m\u001b[1;33m(\u001b[0m\u001b[1;33m*\u001b[0m\u001b[0margs\u001b[0m\u001b[1;33m,\u001b[0m \u001b[1;33m**\u001b[0m\u001b[0mkwargs\u001b[0m\u001b[1;33m)\u001b[0m\u001b[1;33m\u001b[0m\u001b[1;33m\u001b[0m\u001b[0m\n\u001b[0m\u001b[0;32m   2400\u001b[0m             \u001b[1;32mreturn\u001b[0m \u001b[0mresult\u001b[0m\u001b[1;33m\u001b[0m\u001b[1;33m\u001b[0m\u001b[0m\n\u001b[0;32m   2401\u001b[0m \u001b[1;33m\u001b[0m\u001b[0m\n",
      "\u001b[1;32m~\\anaconda3\\lib\\site-packages\\decorator.py\u001b[0m in \u001b[0;36mfun\u001b[1;34m(*args, **kw)\u001b[0m\n\u001b[0;32m    229\u001b[0m             \u001b[1;32mif\u001b[0m \u001b[1;32mnot\u001b[0m \u001b[0mkwsyntax\u001b[0m\u001b[1;33m:\u001b[0m\u001b[1;33m\u001b[0m\u001b[1;33m\u001b[0m\u001b[0m\n\u001b[0;32m    230\u001b[0m                 \u001b[0margs\u001b[0m\u001b[1;33m,\u001b[0m \u001b[0mkw\u001b[0m \u001b[1;33m=\u001b[0m \u001b[0mfix\u001b[0m\u001b[1;33m(\u001b[0m\u001b[0margs\u001b[0m\u001b[1;33m,\u001b[0m \u001b[0mkw\u001b[0m\u001b[1;33m,\u001b[0m \u001b[0msig\u001b[0m\u001b[1;33m)\u001b[0m\u001b[1;33m\u001b[0m\u001b[1;33m\u001b[0m\u001b[0m\n\u001b[1;32m--> 231\u001b[1;33m             \u001b[1;32mreturn\u001b[0m \u001b[0mcaller\u001b[0m\u001b[1;33m(\u001b[0m\u001b[0mfunc\u001b[0m\u001b[1;33m,\u001b[0m \u001b[1;33m*\u001b[0m\u001b[1;33m(\u001b[0m\u001b[0mextras\u001b[0m \u001b[1;33m+\u001b[0m \u001b[0margs\u001b[0m\u001b[1;33m)\u001b[0m\u001b[1;33m,\u001b[0m \u001b[1;33m**\u001b[0m\u001b[0mkw\u001b[0m\u001b[1;33m)\u001b[0m\u001b[1;33m\u001b[0m\u001b[1;33m\u001b[0m\u001b[0m\n\u001b[0m\u001b[0;32m    232\u001b[0m     \u001b[0mfun\u001b[0m\u001b[1;33m.\u001b[0m\u001b[0m__name__\u001b[0m \u001b[1;33m=\u001b[0m \u001b[0mfunc\u001b[0m\u001b[1;33m.\u001b[0m\u001b[0m__name__\u001b[0m\u001b[1;33m\u001b[0m\u001b[1;33m\u001b[0m\u001b[0m\n\u001b[0;32m    233\u001b[0m     \u001b[0mfun\u001b[0m\u001b[1;33m.\u001b[0m\u001b[0m__doc__\u001b[0m \u001b[1;33m=\u001b[0m \u001b[0mfunc\u001b[0m\u001b[1;33m.\u001b[0m\u001b[0m__doc__\u001b[0m\u001b[1;33m\u001b[0m\u001b[1;33m\u001b[0m\u001b[0m\n",
      "\u001b[1;32m~\\anaconda3\\lib\\site-packages\\IPython\\core\\magic.py\u001b[0m in \u001b[0;36m<lambda>\u001b[1;34m(f, *a, **k)\u001b[0m\n\u001b[0;32m    185\u001b[0m     \u001b[1;31m# but it's overkill for just that one bit of state.\u001b[0m\u001b[1;33m\u001b[0m\u001b[1;33m\u001b[0m\u001b[1;33m\u001b[0m\u001b[0m\n\u001b[0;32m    186\u001b[0m     \u001b[1;32mdef\u001b[0m \u001b[0mmagic_deco\u001b[0m\u001b[1;33m(\u001b[0m\u001b[0marg\u001b[0m\u001b[1;33m)\u001b[0m\u001b[1;33m:\u001b[0m\u001b[1;33m\u001b[0m\u001b[1;33m\u001b[0m\u001b[0m\n\u001b[1;32m--> 187\u001b[1;33m         \u001b[0mcall\u001b[0m \u001b[1;33m=\u001b[0m \u001b[1;32mlambda\u001b[0m \u001b[0mf\u001b[0m\u001b[1;33m,\u001b[0m \u001b[1;33m*\u001b[0m\u001b[0ma\u001b[0m\u001b[1;33m,\u001b[0m \u001b[1;33m**\u001b[0m\u001b[0mk\u001b[0m\u001b[1;33m:\u001b[0m \u001b[0mf\u001b[0m\u001b[1;33m(\u001b[0m\u001b[1;33m*\u001b[0m\u001b[0ma\u001b[0m\u001b[1;33m,\u001b[0m \u001b[1;33m**\u001b[0m\u001b[0mk\u001b[0m\u001b[1;33m)\u001b[0m\u001b[1;33m\u001b[0m\u001b[1;33m\u001b[0m\u001b[0m\n\u001b[0m\u001b[0;32m    188\u001b[0m \u001b[1;33m\u001b[0m\u001b[0m\n\u001b[0;32m    189\u001b[0m         \u001b[1;32mif\u001b[0m \u001b[0mcallable\u001b[0m\u001b[1;33m(\u001b[0m\u001b[0marg\u001b[0m\u001b[1;33m)\u001b[0m\u001b[1;33m:\u001b[0m\u001b[1;33m\u001b[0m\u001b[1;33m\u001b[0m\u001b[0m\n",
      "\u001b[1;32m~\\anaconda3\\lib\\site-packages\\v1\\v1.py\u001b[0m in \u001b[0;36mcu\u001b[1;34m(self, line, cell)\u001b[0m\n\u001b[0;32m     50\u001b[0m                 \u001b[0mf\u001b[0m\u001b[1;33m.\u001b[0m\u001b[0mwrite\u001b[0m\u001b[1;33m(\u001b[0m\u001b[0mcell\u001b[0m\u001b[1;33m)\u001b[0m\u001b[1;33m\u001b[0m\u001b[1;33m\u001b[0m\u001b[0m\n\u001b[0;32m     51\u001b[0m             \u001b[1;32mtry\u001b[0m\u001b[1;33m:\u001b[0m\u001b[1;33m\u001b[0m\u001b[1;33m\u001b[0m\u001b[0m\n\u001b[1;32m---> 52\u001b[1;33m                 \u001b[0mself\u001b[0m\u001b[1;33m.\u001b[0m\u001b[0mcompile\u001b[0m\u001b[1;33m(\u001b[0m\u001b[0mfile_path\u001b[0m\u001b[1;33m)\u001b[0m\u001b[1;33m\u001b[0m\u001b[1;33m\u001b[0m\u001b[0m\n\u001b[0m\u001b[0;32m     53\u001b[0m                 \u001b[0moutput\u001b[0m \u001b[1;33m=\u001b[0m \u001b[0mself\u001b[0m\u001b[1;33m.\u001b[0m\u001b[0mrun\u001b[0m\u001b[1;33m(\u001b[0m\u001b[0mfile_path\u001b[0m\u001b[1;33m,\u001b[0m \u001b[0mtimeit\u001b[0m\u001b[1;33m=\u001b[0m\u001b[0margs\u001b[0m\u001b[1;33m.\u001b[0m\u001b[0mtimeit\u001b[0m\u001b[1;33m)\u001b[0m\u001b[1;33m\u001b[0m\u001b[1;33m\u001b[0m\u001b[0m\n\u001b[0;32m     54\u001b[0m             \u001b[1;32mexcept\u001b[0m \u001b[0msubprocess\u001b[0m\u001b[1;33m.\u001b[0m\u001b[0mCalledProcessError\u001b[0m \u001b[1;32mas\u001b[0m \u001b[0me\u001b[0m\u001b[1;33m:\u001b[0m\u001b[1;33m\u001b[0m\u001b[1;33m\u001b[0m\u001b[0m\n",
      "\u001b[1;32m~\\anaconda3\\lib\\site-packages\\v1\\v1.py\u001b[0m in \u001b[0;36mcompile\u001b[1;34m(file_path)\u001b[0m\n\u001b[0;32m     21\u001b[0m     \u001b[1;33m@\u001b[0m\u001b[0mstaticmethod\u001b[0m\u001b[1;33m\u001b[0m\u001b[1;33m\u001b[0m\u001b[0m\n\u001b[0;32m     22\u001b[0m     \u001b[1;32mdef\u001b[0m \u001b[0mcompile\u001b[0m\u001b[1;33m(\u001b[0m\u001b[0mfile_path\u001b[0m\u001b[1;33m)\u001b[0m\u001b[1;33m:\u001b[0m\u001b[1;33m\u001b[0m\u001b[1;33m\u001b[0m\u001b[0m\n\u001b[1;32m---> 23\u001b[1;33m         subprocess.check_output(\n\u001b[0m\u001b[0;32m     24\u001b[0m             [compiler, file_path + ext, \"-o\", file_path + \".out\", '-Wno-deprecated-gpu-targets'], stderr=subprocess.STDOUT)\n\u001b[0;32m     25\u001b[0m \u001b[1;33m\u001b[0m\u001b[0m\n",
      "\u001b[1;32m~\\anaconda3\\lib\\subprocess.py\u001b[0m in \u001b[0;36mcheck_output\u001b[1;34m(timeout, *popenargs, **kwargs)\u001b[0m\n\u001b[0;32m    413\u001b[0m         \u001b[0mkwargs\u001b[0m\u001b[1;33m[\u001b[0m\u001b[1;34m'input'\u001b[0m\u001b[1;33m]\u001b[0m \u001b[1;33m=\u001b[0m \u001b[0mempty\u001b[0m\u001b[1;33m\u001b[0m\u001b[1;33m\u001b[0m\u001b[0m\n\u001b[0;32m    414\u001b[0m \u001b[1;33m\u001b[0m\u001b[0m\n\u001b[1;32m--> 415\u001b[1;33m     return run(*popenargs, stdout=PIPE, timeout=timeout, check=True,\n\u001b[0m\u001b[0;32m    416\u001b[0m                **kwargs).stdout\n\u001b[0;32m    417\u001b[0m \u001b[1;33m\u001b[0m\u001b[0m\n",
      "\u001b[1;32m~\\anaconda3\\lib\\subprocess.py\u001b[0m in \u001b[0;36mrun\u001b[1;34m(input, capture_output, timeout, check, *popenargs, **kwargs)\u001b[0m\n\u001b[0;32m    491\u001b[0m         \u001b[0mkwargs\u001b[0m\u001b[1;33m[\u001b[0m\u001b[1;34m'stderr'\u001b[0m\u001b[1;33m]\u001b[0m \u001b[1;33m=\u001b[0m \u001b[0mPIPE\u001b[0m\u001b[1;33m\u001b[0m\u001b[1;33m\u001b[0m\u001b[0m\n\u001b[0;32m    492\u001b[0m \u001b[1;33m\u001b[0m\u001b[0m\n\u001b[1;32m--> 493\u001b[1;33m     \u001b[1;32mwith\u001b[0m \u001b[0mPopen\u001b[0m\u001b[1;33m(\u001b[0m\u001b[1;33m*\u001b[0m\u001b[0mpopenargs\u001b[0m\u001b[1;33m,\u001b[0m \u001b[1;33m**\u001b[0m\u001b[0mkwargs\u001b[0m\u001b[1;33m)\u001b[0m \u001b[1;32mas\u001b[0m \u001b[0mprocess\u001b[0m\u001b[1;33m:\u001b[0m\u001b[1;33m\u001b[0m\u001b[1;33m\u001b[0m\u001b[0m\n\u001b[0m\u001b[0;32m    494\u001b[0m         \u001b[1;32mtry\u001b[0m\u001b[1;33m:\u001b[0m\u001b[1;33m\u001b[0m\u001b[1;33m\u001b[0m\u001b[0m\n\u001b[0;32m    495\u001b[0m             \u001b[0mstdout\u001b[0m\u001b[1;33m,\u001b[0m \u001b[0mstderr\u001b[0m \u001b[1;33m=\u001b[0m \u001b[0mprocess\u001b[0m\u001b[1;33m.\u001b[0m\u001b[0mcommunicate\u001b[0m\u001b[1;33m(\u001b[0m\u001b[0minput\u001b[0m\u001b[1;33m,\u001b[0m \u001b[0mtimeout\u001b[0m\u001b[1;33m=\u001b[0m\u001b[0mtimeout\u001b[0m\u001b[1;33m)\u001b[0m\u001b[1;33m\u001b[0m\u001b[1;33m\u001b[0m\u001b[0m\n",
      "\u001b[1;32m~\\anaconda3\\lib\\subprocess.py\u001b[0m in \u001b[0;36m__init__\u001b[1;34m(self, args, bufsize, executable, stdin, stdout, stderr, preexec_fn, close_fds, shell, cwd, env, universal_newlines, startupinfo, creationflags, restore_signals, start_new_session, pass_fds, encoding, errors, text)\u001b[0m\n\u001b[0;32m    856\u001b[0m                             encoding=encoding, errors=errors)\n\u001b[0;32m    857\u001b[0m \u001b[1;33m\u001b[0m\u001b[0m\n\u001b[1;32m--> 858\u001b[1;33m             self._execute_child(args, executable, preexec_fn, close_fds,\n\u001b[0m\u001b[0;32m    859\u001b[0m                                 \u001b[0mpass_fds\u001b[0m\u001b[1;33m,\u001b[0m \u001b[0mcwd\u001b[0m\u001b[1;33m,\u001b[0m \u001b[0menv\u001b[0m\u001b[1;33m,\u001b[0m\u001b[1;33m\u001b[0m\u001b[1;33m\u001b[0m\u001b[0m\n\u001b[0;32m    860\u001b[0m                                 \u001b[0mstartupinfo\u001b[0m\u001b[1;33m,\u001b[0m \u001b[0mcreationflags\u001b[0m\u001b[1;33m,\u001b[0m \u001b[0mshell\u001b[0m\u001b[1;33m,\u001b[0m\u001b[1;33m\u001b[0m\u001b[1;33m\u001b[0m\u001b[0m\n",
      "\u001b[1;32m~\\anaconda3\\lib\\subprocess.py\u001b[0m in \u001b[0;36m_execute_child\u001b[1;34m(self, args, executable, preexec_fn, close_fds, pass_fds, cwd, env, startupinfo, creationflags, shell, p2cread, p2cwrite, c2pread, c2pwrite, errread, errwrite, unused_restore_signals, unused_start_new_session)\u001b[0m\n\u001b[0;32m   1309\u001b[0m             \u001b[1;31m# Start the process\u001b[0m\u001b[1;33m\u001b[0m\u001b[1;33m\u001b[0m\u001b[1;33m\u001b[0m\u001b[0m\n\u001b[0;32m   1310\u001b[0m             \u001b[1;32mtry\u001b[0m\u001b[1;33m:\u001b[0m\u001b[1;33m\u001b[0m\u001b[1;33m\u001b[0m\u001b[0m\n\u001b[1;32m-> 1311\u001b[1;33m                 hp, ht, pid, tid = _winapi.CreateProcess(executable, args,\n\u001b[0m\u001b[0;32m   1312\u001b[0m                                          \u001b[1;31m# no special security\u001b[0m\u001b[1;33m\u001b[0m\u001b[1;33m\u001b[0m\u001b[1;33m\u001b[0m\u001b[0m\n\u001b[0;32m   1313\u001b[0m                                          \u001b[1;32mNone\u001b[0m\u001b[1;33m,\u001b[0m \u001b[1;32mNone\u001b[0m\u001b[1;33m,\u001b[0m\u001b[1;33m\u001b[0m\u001b[1;33m\u001b[0m\u001b[0m\n",
      "\u001b[1;31mFileNotFoundError\u001b[0m: [WinError 2] The system cannot find the file specified"
     ]
    }
   ],
   "source": [
    "%%cu\n",
    "#include <cmath>\n",
    "#include <cstdlib>\n",
    "#include <iostream>\n",
    "\n",
    "#define checkCudaErrors(call)                                                                 \\\n",
    "    do {                                                                                      \\\n",
    "        cudaError_t err = call;                                                               \\\n",
    "        if (err != cudaSuccess) {                                                             \\\n",
    "            printf(\"CUDA error at %s %d: %s\\n\", __FILE__, __LINE__, cudaGetErrorString(err)); \\\n",
    "            exit(EXIT_FAILURE);                                                               \\\n",
    "        }                                                                                     \\\n",
    "    } while (0)\n",
    "\n",
    "using namespace std;\n",
    "\n",
    "// Matrix multiplication Cuda\n",
    "__global__ void matrixMultiplication(int *a, int *b, int *c, int n) {\n",
    "    int row = threadIdx.y + blockDim.y * blockIdx.y;\n",
    "    int col = threadIdx.x + blockDim.x * blockIdx.x;\n",
    "    int sum = 0;\n",
    "\n",
    "    if (row < n && col < n)\n",
    "        for (int j = 0; j < n; j++) {\n",
    "            sum = sum + a[row * n + j] * b[j * n + col];\n",
    "        }\n",
    "\n",
    "    c[n * row + col] = sum;\n",
    "}\n",
    "\n",
    "int main() {\n",
    "    int *a, *b, *c;\n",
    "    int *a_dev, *b_dev, *c_dev;\n",
    "    int n = 10;\n",
    "\n",
    "    a = new int[n * n];\n",
    "    b = new int[n * n];\n",
    "    c = new int[n * n];\n",
    "    int *d = new int[n * n];\n",
    "    int size = n * n * sizeof(int);\n",
    "    checkCudaErrors(cudaMalloc(&a_dev, size));\n",
    "    checkCudaErrors(cudaMalloc(&b_dev, size));\n",
    "    checkCudaErrors(cudaMalloc(&c_dev, size));\n",
    "\n",
    "    // Array initialization\n",
    "    for (int i = 0; i < n * n; i++) {\n",
    "        a[i] = rand() % 10;\n",
    "        b[i] = rand() % 10;\n",
    "    }\n",
    "\n",
    "    cout << \"Given matrix A is =>\\n\";\n",
    "    for (int row = 0; row < n; row++) {\n",
    "        for (int col = 0; col < n; col++) {\n",
    "            cout << a[row * n + col] << \" \";\n",
    "        }\n",
    "        cout << \"\\n\";\n",
    "    }\n",
    "    cout << \"\\n\";\n",
    "\n",
    "    cout << \"Given matrix B is =>\\n\";\n",
    "    for (int row = 0; row < n; row++) {\n",
    "        for (int col = 0; col < n; col++) {\n",
    "            cout << b[row * n + col] << \" \";\n",
    "        }\n",
    "        cout << \"\\n\";\n",
    "    }\n",
    "    cout << \"\\n\";\n",
    "\n",
    "    cudaEvent_t start, end;\n",
    "\n",
    "    checkCudaErrors(cudaEventCreate(&start));\n",
    "    checkCudaErrors(cudaEventCreate(&end));\n",
    "\n",
    "    checkCudaErrors(cudaMemcpy(a_dev, a, size, cudaMemcpyHostToDevice));\n",
    "    checkCudaErrors(cudaMemcpy(b_dev, b, size, cudaMemcpyHostToDevice));\n",
    "\n",
    "    dim3 threadsPerBlock(n, n);\n",
    "    dim3 blocksPerGrid(1, 1);\n",
    "\n",
    "    // GPU Multiplication\n",
    "    checkCudaErrors(cudaEventRecord(start));\n",
    "    matrixMultiplication<<<blocksPerGrid, threadsPerBlock>>>(a_dev, b_dev, c_dev, n);\n",
    "\n",
    "    checkCudaErrors(cudaEventRecord(end));\n",
    "    checkCudaErrors(cudaEventSynchronize(end));\n",
    "\n",
    "    float time = 0.0;\n",
    "    checkCudaErrors(cudaEventElapsedTime(&time, start, end));\n",
    "\n",
    "    checkCudaErrors(cudaMemcpy(c, c_dev, size, cudaMemcpyDeviceToHost));\n",
    "\n",
    "    // CPU matrix multiplication\n",
    "    int sum = 0;\n",
    "    for (int row = 0; row < n; row++) {\n",
    "        for (int col = 0; col < n; col++) {\n",
    "            sum = 0;\n",
    "            for (int k = 0; k < n; k++) sum = sum + a[row * n + k] * b[k * n + col];\n",
    "            d[row * n + col] = sum;\n",
    "        }\n",
    "    }\n",
    "\n",
    "    cout << \"CPU product is =>\\n\";\n",
    "    for (int row = 0; row < n; row++) {\n",
    "        for (int col = 0; col < n; col++) {\n",
    "            cout << d[row * n + col] << \" \";\n",
    "        }\n",
    "        cout << \"\\n\";\n",
    "    }\n",
    "    cout << \"\\n\";\n",
    "\n",
    "    cout << \"GPU product is =>\\n\";\n",
    "    for (int row = 0; row < n; row++) {\n",
    "        for (int col = 0; col < n; col++) {\n",
    "            cout << c[row * n + col] << \" \";\n",
    "        }\n",
    "        cout << \"\\n\";\n",
    "    }\n",
    "    cout << \"\\n\";\n",
    "\n",
    "    int error = 0;\n",
    "    int _c, _d;\n",
    "    for (int row = 0; row < n; row++) {\n",
    "        for (int col = 0; col < n; col++) {\n",
    "            _c = c[row * n + col];\n",
    "            _d = d[row * n + col];\n",
    "            error += _c - _d;\n",
    "            if (0 != (_c - _d)) {\n",
    "                cout << \"Error at (\" << row << \", \" << col << \") => GPU: \" << _c << \", CPU: \" << _d\n",
    "                     << \"\\n\";\n",
    "            }\n",
    "        }\n",
    "    }\n",
    "    cout << \"\\n\";\n",
    "\n",
    "    cout << \"Error : \" << error;\n",
    "    cout << \"\\nTime Elapsed: \" << time;\n",
    "\n",
    "    return 0;\n",
    "}"
   ]
  },
  {
   "cell_type": "code",
   "execution_count": null,
   "metadata": {
    "id": "IWFSh18hxA6D"
   },
   "outputs": [],
   "source": []
  }
 ],
 "metadata": {
  "accelerator": "GPU",
  "colab": {
   "gpuType": "T4",
   "provenance": []
  },
  "gpuClass": "standard",
  "kernelspec": {
   "display_name": "Python 3",
   "language": "python",
   "name": "python3"
  },
  "language_info": {
   "codemirror_mode": {
    "name": "ipython",
    "version": 3
   },
   "file_extension": ".py",
   "mimetype": "text/x-python",
   "name": "python",
   "nbconvert_exporter": "python",
   "pygments_lexer": "ipython3",
   "version": "3.8.8"
  }
 },
 "nbformat": 4,
 "nbformat_minor": 1
}
