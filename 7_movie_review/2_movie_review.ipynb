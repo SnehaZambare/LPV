{
 "cells": [
  {
   "cell_type": "code",
   "execution_count": 1,
   "metadata": {
    "id": "AjG7RNL0WT6C"
   },
   "outputs": [],
   "source": [
    "import numpy as np\n",
    "import pandas as pd\n",
    "from sklearn.model_selection import train_test_split"
   ]
  },
  {
   "cell_type": "code",
   "execution_count": 2,
   "metadata": {
    "id": "T_zCxjScWYPX"
   },
   "outputs": [
    {
     "name": "stdout",
     "output_type": "stream",
     "text": [
      "Downloading data from https://storage.googleapis.com/tensorflow/tf-keras-datasets/imdb.npz\n",
      "17464789/17464789 [==============================] - 3s 0us/step\n"
     ]
    }
   ],
   "source": [
    "from keras.datasets import imdb\n",
    "#loading imdb data with most frequent 10000 words\n",
    "(X_train, y_train), (X_test, y_test) = imdb.load_data(num_words=10000)"
   ]
  },
  {
   "cell_type": "code",
   "execution_count": 3,
   "metadata": {
    "id": "Yal0LJWzWakc"
   },
   "outputs": [],
   "source": [
    "# you may take top 10,000word frequently used review of movies other are discarded\n",
    "#consolidating data for EDA Exploratory data analysis (EDA) is used by data scientists to analyze andinvestigate data sets and summarize their main characteristics\n",
    "data = np.concatenate((X_train, X_test), axis=0)"
   ]
  },
  {
   "cell_type": "code",
   "execution_count": 4,
   "metadata": {
    "id": "tz2ZVtqsWcBh"
   },
   "outputs": [],
   "source": [
    "# axis 0 is first running vertically downwards acrossrows (axis 0), axis 1 is second running horizontally across columns (axis 1),\n",
    "label = np.concatenate((y_train, y_test), axis=0)"
   ]
  },
  {
   "cell_type": "code",
   "execution_count": 5,
   "metadata": {
    "colab": {
     "base_uri": "https://localhost:8080/"
    },
    "id": "Kt7skYX1WlEb",
    "outputId": "debde259-0925-4a02-8c28-07d45bf380cd"
   },
   "outputs": [
    {
     "name": "stdout",
     "output_type": "stream",
     "text": [
      "Review is 1\n"
     ]
    }
   ],
   "source": [
    "# series of no converted word to vocabulory associated with index\n",
    "print(\"Review is\",y_train[0])"
   ]
  },
  {
   "cell_type": "code",
   "execution_count": 6,
   "metadata": {
    "colab": {
     "base_uri": "https://localhost:8080/"
    },
    "id": "3t1aXaYFWxn6",
    "outputId": "fa57be40-03ec-44bc-f0d4-4cfc96883375"
   },
   "outputs": [
    {
     "data": {
      "text/plain": [
       "array([1, 0, 0, ..., 0, 1, 0], dtype=int64)"
      ]
     },
     "execution_count": 6,
     "metadata": {},
     "output_type": "execute_result"
    }
   ],
   "source": [
    "y_train"
   ]
  },
  {
   "cell_type": "code",
   "execution_count": 7,
   "metadata": {
    "colab": {
     "base_uri": "https://localhost:8080/"
    },
    "id": "7Q-0TatsWz4Y",
    "outputId": "85980d3f-0189-48d3-9242-107cebfb74a8"
   },
   "outputs": [
    {
     "data": {
      "text/plain": [
       "array([0, 1, 1, ..., 0, 0, 0], dtype=int64)"
      ]
     },
     "execution_count": 7,
     "metadata": {},
     "output_type": "execute_result"
    }
   ],
   "source": [
    "y_test"
   ]
  },
  {
   "cell_type": "code",
   "execution_count": 8,
   "metadata": {
    "id": "qhhXkcTYW1Bb"
   },
   "outputs": [],
   "source": [
    "# Function to perform relevant sequence adding on the data\n",
    "# Now it is time to prepare our data. We will vectorize every review and fill it with zeros so that it contains exactly 10000 numbers.\n",
    "# That means we fill every review that is shorter than 500 with zeros.\n",
    "# We do this because the biggest review is nearly that long and every input for our neural network needsto have the same size.\n",
    "# We also transform the targets into floats.\n",
    "# sequences is name of method the review less than 10000 we perform padding overthere # binary vectorization code:\n",
    "# VECTORIZE as one cannot feed integers into a NN\n",
    "# Encoding the integer sequences into a binary matrix - one hot encoder basically\n",
    "# From integers representing words, at various lengths - to a normalized one hot encoded tensor (matrix)of 10k columns\n",
    "def vectorize(sequences, dimension = 10000):\n",
    "  # We will vectorize every review and fill it with zerosso that it contains exactly 10,000 numbers.\n",
    "  # Create an all-zero matrix of shape (len(sequences), dimension)r\n",
    "  results = np.zeros((len(sequences), dimension), dtype = 'float32')\n",
    "  for i, sequence in enumerate(sequences):\n",
    "    results[i, sequence] = 1\n",
    "  return results"
   ]
  },
  {
   "cell_type": "code",
   "execution_count": 9,
   "metadata": {
    "colab": {
     "base_uri": "https://localhost:8080/"
    },
    "id": "fKHuGV-YXCu7",
    "outputId": "86747ca7-ed6e-4272-9d18-f84731b0d22b"
   },
   "outputs": [
    {
     "data": {
      "text/plain": [
       "(10000,)"
      ]
     },
     "execution_count": 9,
     "metadata": {},
     "output_type": "execute_result"
    }
   ],
   "source": [
    "# Now we split our data into a training and a testing set. # The training set will contain reviews and the testing set # \n",
    "# Set a VALIDATION set\n",
    "test_x = data[:10000]\n",
    "test_y = label[:10000]\n",
    "train_x = data[10000:]\n",
    "train_y = label[10000:]\n",
    "test_x.shape"
   ]
  },
  {
   "cell_type": "code",
   "execution_count": 10,
   "metadata": {
    "colab": {
     "base_uri": "https://localhost:8080/"
    },
    "id": "DE2G_IffXJq9",
    "outputId": "007860d3-893f-482c-811a-0e70f0e5f3ff"
   },
   "outputs": [
    {
     "data": {
      "text/plain": [
       "(10000,)"
      ]
     },
     "execution_count": 10,
     "metadata": {},
     "output_type": "execute_result"
    }
   ],
   "source": [
    "test_y.shape"
   ]
  },
  {
   "cell_type": "code",
   "execution_count": 11,
   "metadata": {
    "colab": {
     "base_uri": "https://localhost:8080/"
    },
    "id": "6ZzJRBW6XLsD",
    "outputId": "25d2637b-fa29-4bf5-924c-b592b7154465"
   },
   "outputs": [
    {
     "data": {
      "text/plain": [
       "(40000,)"
      ]
     },
     "execution_count": 11,
     "metadata": {},
     "output_type": "execute_result"
    }
   ],
   "source": [
    "train_x.shape"
   ]
  },
  {
   "cell_type": "code",
   "execution_count": 12,
   "metadata": {
    "colab": {
     "base_uri": "https://localhost:8080/"
    },
    "id": "4T42CNphXNac",
    "outputId": "95b66980-b323-4072-dcef-d821ae91cfd1"
   },
   "outputs": [
    {
     "data": {
      "text/plain": [
       "(40000,)"
      ]
     },
     "execution_count": 12,
     "metadata": {},
     "output_type": "execute_result"
    }
   ],
   "source": [
    "train_y.shape"
   ]
  },
  {
   "cell_type": "code",
   "execution_count": 13,
   "metadata": {
    "id": "2dAw7EuZXuzo"
   },
   "outputs": [
    {
     "name": "stdout",
     "output_type": "stream",
     "text": [
      "Downloading data from https://storage.googleapis.com/tensorflow/tf-keras-datasets/imdb_word_index.json\n",
      "1641221/1641221 [==============================] - 0s 0us/step\n"
     ]
    }
   ],
   "source": [
    "# Retrieves a dict mapping words to their index in the IMDB dataset\n",
    "index = imdb.get_word_index()\n",
    "# word to index"
   ]
  },
  {
   "cell_type": "code",
   "execution_count": 14,
   "metadata": {
    "id": "ph9ueGfHXxHl"
   },
   "outputs": [],
   "source": [
    "# Create inverted index from a dictionary with document ids as keys and a list of terms as values foreach document\n",
    "reverse_index = dict([(value, key) for (key, value) in index.items()])"
   ]
  },
  {
   "cell_type": "code",
   "execution_count": 15,
   "metadata": {
    "id": "Pzb3gb2AXzFj"
   },
   "outputs": [],
   "source": [
    "decoded = \" \".join( [reverse_index.get(i - 3, \"#\") for i in data[0]] )\n",
    "# The indices are offset by 3 because 0, 1 and 2 are reserved indices for \"padding\", \"start of sequence\"and \"unknown\""
   ]
  },
  {
   "cell_type": "code",
   "execution_count": 16,
   "metadata": {
    "colab": {
     "base_uri": "https://localhost:8080/"
    },
    "id": "NEgyq9_JX2lP",
    "outputId": "6d68abf3-a749-404a-bab8-768619a5534f"
   },
   "outputs": [
    {
     "name": "stdout",
     "output_type": "stream",
     "text": [
      "# this film was just brilliant casting location scenery story direction everyone's really suited the part they played and you could just imagine being there robert # is an amazing actor and now the same being director # father came from the same scottish island as myself so i loved the fact there was a real connection with this film the witty remarks throughout the film were great it was just brilliant so much that i bought the film as soon as it was released for # and would recommend it to everyone to watch and the fly fishing was amazing really cried at the end it was so sad and you know what they say if you cry at a film it must have been good and this definitely was also # to the two little boy's that played the # of norman and paul they were just brilliant children are often left out of the # list i think because the stars that play them all grown up are such a big profile for the whole film but these children are amazing and should be praised for what they have done don't you think the whole story was so lovely because it was true and was someone's life after all that was shared with us all\n"
     ]
    }
   ],
   "source": [
    "print(decoded)"
   ]
  },
  {
   "cell_type": "code",
   "execution_count": 17,
   "metadata": {
    "colab": {
     "base_uri": "https://localhost:8080/",
     "height": 466
    },
    "id": "wl8COfjIX6hA",
    "outputId": "57d9af4b-2a42-4a98-a804-e5f084bdb75a"
   },
   "outputs": [],
   "source": [
    "#import seaborn as sns\n",
    "#Adding sequence to data\n",
    "# Vectorization is the process of converting textual data into numerical vectors and is a process that is usually applied once the text is cleaned.\n",
    "data = vectorize(data)\n",
    "label = np.array(label).astype('float32')\n",
    "#labelDF=pd.DataFrame({'label':label})\n",
    "#sns.countplot(x='label', data=labelDF)"
   ]
  },
  {
   "cell_type": "code",
   "execution_count": 18,
   "metadata": {
    "colab": {
     "base_uri": "https://localhost:8080/"
    },
    "id": "z2WUOiD3YChJ",
    "outputId": "93dfa3b0-dc4a-4805-e991-ee3d69339298"
   },
   "outputs": [
    {
     "data": {
      "text/plain": [
       "(40000, 10000)"
      ]
     },
     "execution_count": 18,
     "metadata": {},
     "output_type": "execute_result"
    }
   ],
   "source": [
    "# Creating train and test data set\n",
    "from sklearn.model_selection import train_test_split\n",
    "X_train, X_test, y_train, y_test = train_test_split(data,label, test_size=0.20, random_state=1)\n",
    "X_train.shape"
   ]
  },
  {
   "cell_type": "code",
   "execution_count": 19,
   "metadata": {
    "colab": {
     "base_uri": "https://localhost:8080/"
    },
    "id": "tadbwMaFZyFP",
    "outputId": "aedbae4d-d549-4399-cc6b-369482c1b3ca"
   },
   "outputs": [
    {
     "data": {
      "text/plain": [
       "(10000, 10000)"
      ]
     },
     "execution_count": 19,
     "metadata": {},
     "output_type": "execute_result"
    }
   ],
   "source": [
    "X_test.shape"
   ]
  },
  {
   "cell_type": "code",
   "execution_count": 20,
   "metadata": {
    "id": "HG4BioAHZzzw"
   },
   "outputs": [],
   "source": [
    "# Let's create sequential model\n",
    "from keras.utils import to_categorical\n",
    "from keras import models\n",
    "from keras import layers"
   ]
  },
  {
   "cell_type": "code",
   "execution_count": 21,
   "metadata": {
    "id": "wOlhk0OtZ3N8"
   },
   "outputs": [],
   "source": [
    "# Input - Layer\n",
    "# Note that we set the input-shape to 10,000 at the input-layer because our reviews are 10,000 integerslong.\n",
    "# The input-layer takes 10,000 as input and outputs it with a shape of 50.\n",
    "#model = models.Sequential()\n",
    "#model.add(layers.Dense(50, activation = \"relu\", input_shape=(10000, )))\n",
    "model = models.Sequential()\n",
    "model.add(layers.Dense(16, activation='relu', input_shape=(10000,)))\n",
    "model.add(layers.Dense(16, activation='relu'))\n",
    "model.add(layers.Dense(1, activation='sigmoid'))"
   ]
  },
  {
   "cell_type": "code",
   "execution_count": 22,
   "metadata": {
    "id": "TwJo3SvmZ8M4"
   },
   "outputs": [],
   "source": [
    "# Hidden - Layers\n",
    "# Please note you should always use a dropout rate between 20% and 50%. # here in our case 0.3 means30% dropout we are using dropout to prevent overfitting.\n",
    "# By the way, if you want you can build a sentiment analysis without LSTMs, then you simply need toreplace it by a flatten layer:\n",
    "#model.add(layers.Dropout(0.3, noise_shape=None, seed=None))\n",
    "#model.add(layers.Dense(50, activation = \"relu\"))\n",
    "#model.add(layers.Dropout(0.2, noise_shape=None, seed=None))\n",
    "#model.add(layers.Dense(50, activation = \"relu\"))"
   ]
  },
  {
   "cell_type": "code",
   "execution_count": 23,
   "metadata": {
    "colab": {
     "base_uri": "https://localhost:8080/"
    },
    "id": "pzbGNpO2aFpy",
    "outputId": "44b5e636-6c96-472e-8f0a-7500fa67d0b7"
   },
   "outputs": [
    {
     "name": "stdout",
     "output_type": "stream",
     "text": [
      "Model: \"sequential\"\n",
      "_________________________________________________________________\n",
      " Layer (type)                Output Shape              Param #   \n",
      "=================================================================\n",
      " dense (Dense)               (None, 16)                160016    \n",
      "                                                                 \n",
      " dense_1 (Dense)             (None, 16)                272       \n",
      "                                                                 \n",
      " dense_2 (Dense)             (None, 1)                 17        \n",
      "                                                                 \n",
      "=================================================================\n",
      "Total params: 160,305\n",
      "Trainable params: 160,305\n",
      "Non-trainable params: 0\n",
      "_________________________________________________________________\n"
     ]
    }
   ],
   "source": [
    "# Output- Layer\n",
    "#model.add(layers.Dense(1, activation = \"sigmoid\"))\n",
    "model.summary()"
   ]
  },
  {
   "cell_type": "code",
   "execution_count": 24,
   "metadata": {
    "id": "g0cStkGZaTvA"
   },
   "outputs": [],
   "source": [
    "# We use the “adam” optimizer, an algorithm that changes the weights and biasesduring training.\n",
    "# We also choose binary-crossentropy as loss (because we deal with binary classification) and accuracy as our evaluation metric.\n",
    "model.compile( optimizer = \"adam\", loss = \"binary_crossentropy\", metrics = [\"accuracy\"])\n",
    "from sklearn.model_selection import train_test_split"
   ]
  },
  {
   "cell_type": "code",
   "execution_count": 25,
   "metadata": {
    "colab": {
     "base_uri": "https://localhost:8080/"
    },
    "id": "9oADXlkdakbC",
    "outputId": "4a26f16c-4cc3-4f39-c91c-cb91de7078c8"
   },
   "outputs": [
    {
     "name": "stdout",
     "output_type": "stream",
     "text": [
      "Epoch 1/2\n",
      "80/80 [==============================] - 13s 77ms/step - loss: 0.4064 - accuracy: 0.8407 - val_loss: 0.2735 - val_accuracy: 0.8954\n",
      "Epoch 2/2\n",
      "80/80 [==============================] - 3s 34ms/step - loss: 0.2214 - accuracy: 0.9160 - val_loss: 0.2598 - val_accuracy: 0.8980\n"
     ]
    }
   ],
   "source": [
    "results = model.fit( X_train, y_train, epochs= 2, batch_size = 500, validation_data = (X_test, y_test))"
   ]
  },
  {
   "cell_type": "code",
   "execution_count": 26,
   "metadata": {
    "colab": {
     "base_uri": "https://localhost:8080/"
    },
    "id": "fzurjj7kar9D",
    "outputId": "2b07510d-15c1-4a4f-beeb-f8ffcd7990a4"
   },
   "outputs": [
    {
     "name": "stdout",
     "output_type": "stream",
     "text": [
      "0.896699994802475\n",
      "20/20 [==============================] - 0s 14ms/step - loss: 0.2598 - accuracy: 0.8980\n",
      "Test loss: 0.25979045033454895\n",
      "Test accuracy: 0.8980000019073486\n"
     ]
    }
   ],
   "source": [
    "# Let's check mean accuracy of our model\n",
    "print(np.mean(results.history['val_accuracy'])) # Evaluate the model\n",
    "score = model.evaluate(X_test, y_test, batch_size=500)\n",
    "print('Test loss:', score[0])\n",
    "print('Test accuracy:', score[1])"
   ]
  },
  {
   "cell_type": "code",
   "execution_count": 27,
   "metadata": {
    "colab": {
     "base_uri": "https://localhost:8080/",
     "height": 472
    },
    "id": "PkT51Pkba48X",
    "outputId": "024b1cf4-7742-46d2-b235-bde7643101a8"
   },
   "outputs": [
    {
     "data": {
      "image/png": "[encoded data removed]",
      "text/plain": [
       "<Figure size 432x288 with 1 Axes>"
      ]
     },
     "metadata": {
      "needs_background": "light"
     },
     "output_type": "display_data"
    }
   ],
   "source": [
    "# summarize history for accuracy\n",
    "import matplotlib.pyplot as plt\n",
    "plt.plot(results.history['accuracy'])\n",
    "plt.plot(results.history['val_accuracy'])\n",
    "plt.title('model accuracy')\n",
    "plt.ylabel('accuracy')\n",
    "plt.xlabel('epoch')\n",
    "plt.legend(['train', 'test'], loc='upper left')\n",
    "plt.show()"
   ]
  },
  {
   "cell_type": "code",
   "execution_count": 28,
   "metadata": {
    "colab": {
     "base_uri": "https://localhost:8080/",
     "height": 472
    },
    "id": "wxD8dT0GbPrG",
    "outputId": "393fc271-48a5-4743-dee0-bc6726ab3219"
   },
   "outputs": [
    {
     "data": {
      "image/png": "[encoded data removed]",
      "text/plain": [
       "<Figure size 432x288 with 1 Axes>"
      ]
     },
     "metadata": {
      "needs_background": "light"
     },
     "output_type": "display_data"
    }
   ],
   "source": [
    "plt.plot(results.history['loss'])\n",
    "plt.plot(results.history['val_loss'])\n",
    "plt.title('model loss')\n",
    "plt.ylabel('loss')\n",
    "plt.xlabel('epoch')\n",
    "plt.legend(['train', 'test'], loc='upper left')\n",
    "plt.show()"
   ]
  },
  {
   "cell_type": "code",
   "execution_count": null,
   "metadata": {},
   "outputs": [],
   "source": []
  }
 ],
 "metadata": {
  "colab": {
   "provenance": []
  },
  "kernelspec": {
   "display_name": "Python 3",
   "language": "python",
   "name": "python3"
  },
  "language_info": {
   "codemirror_mode": {
    "name": "ipython",
    "version": 3
   },
   "file_extension": ".py",
   "mimetype": "text/x-python",
   "name": "python",
   "nbconvert_exporter": "python",
   "pygments_lexer": "ipython3",
   "version": "3.8.8"
  }
 },
 "nbformat": 4,
 "nbformat_minor": 1
}
